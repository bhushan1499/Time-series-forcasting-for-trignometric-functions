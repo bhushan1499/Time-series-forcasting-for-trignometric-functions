{
  "nbformat": 4,
  "nbformat_minor": 0,
  "metadata": {
    "colab": {
      "name": "cosine.ipynb",
      "provenance": []
    },
    "kernelspec": {
      "name": "python3",
      "display_name": "Python 3"
    },
    "accelerator": "GPU"
  },
  "cells": [
    {
      "cell_type": "code",
      "metadata": {
        "id": "Fe5c7lYK-X4h",
        "colab_type": "code",
        "colab": {}
      },
      "source": [
        "import pandas as pd\n",
        "import numpy as np\n",
        "import matplotlib.pyplot as plt"
      ],
      "execution_count": 0,
      "outputs": []
    },
    {
      "cell_type": "code",
      "metadata": {
        "id": "7Z9fFjK--fFF",
        "colab_type": "code",
        "colab": {}
      },
      "source": [
        "x = np.linspace(0,50,500)\n"
      ],
      "execution_count": 0,
      "outputs": []
    },
    {
      "cell_type": "code",
      "metadata": {
        "id": "raPOsIyZ-rxB",
        "colab_type": "code",
        "colab": {}
      },
      "source": [
        "y = np.cos(x)"
      ],
      "execution_count": 0,
      "outputs": []
    },
    {
      "cell_type": "code",
      "metadata": {
        "id": "ku1QqE0z-xpt",
        "colab_type": "code",
        "outputId": "dff7ac0c-9f7f-4c61-b16f-d1de0d9a89da",
        "colab": {
          "base_uri": "https://localhost:8080/",
          "height": 1000
        }
      },
      "source": [
        "x"
      ],
      "execution_count": 49,
      "outputs": [
        {
          "output_type": "execute_result",
          "data": {
            "text/plain": [
              "array([ 0.        ,  0.1002004 ,  0.2004008 ,  0.3006012 ,  0.4008016 ,\n",
              "        0.501002  ,  0.6012024 ,  0.70140281,  0.80160321,  0.90180361,\n",
              "        1.00200401,  1.10220441,  1.20240481,  1.30260521,  1.40280561,\n",
              "        1.50300601,  1.60320641,  1.70340681,  1.80360721,  1.90380762,\n",
              "        2.00400802,  2.10420842,  2.20440882,  2.30460922,  2.40480962,\n",
              "        2.50501002,  2.60521042,  2.70541082,  2.80561122,  2.90581162,\n",
              "        3.00601202,  3.10621242,  3.20641283,  3.30661323,  3.40681363,\n",
              "        3.50701403,  3.60721443,  3.70741483,  3.80761523,  3.90781563,\n",
              "        4.00801603,  4.10821643,  4.20841683,  4.30861723,  4.40881764,\n",
              "        4.50901804,  4.60921844,  4.70941884,  4.80961924,  4.90981964,\n",
              "        5.01002004,  5.11022044,  5.21042084,  5.31062124,  5.41082164,\n",
              "        5.51102204,  5.61122244,  5.71142285,  5.81162325,  5.91182365,\n",
              "        6.01202405,  6.11222445,  6.21242485,  6.31262525,  6.41282565,\n",
              "        6.51302605,  6.61322645,  6.71342685,  6.81362725,  6.91382766,\n",
              "        7.01402806,  7.11422846,  7.21442886,  7.31462926,  7.41482966,\n",
              "        7.51503006,  7.61523046,  7.71543086,  7.81563126,  7.91583166,\n",
              "        8.01603206,  8.11623246,  8.21643287,  8.31663327,  8.41683367,\n",
              "        8.51703407,  8.61723447,  8.71743487,  8.81763527,  8.91783567,\n",
              "        9.01803607,  9.11823647,  9.21843687,  9.31863727,  9.41883768,\n",
              "        9.51903808,  9.61923848,  9.71943888,  9.81963928,  9.91983968,\n",
              "       10.02004008, 10.12024048, 10.22044088, 10.32064128, 10.42084168,\n",
              "       10.52104208, 10.62124248, 10.72144289, 10.82164329, 10.92184369,\n",
              "       11.02204409, 11.12224449, 11.22244489, 11.32264529, 11.42284569,\n",
              "       11.52304609, 11.62324649, 11.72344689, 11.82364729, 11.9238477 ,\n",
              "       12.0240481 , 12.1242485 , 12.2244489 , 12.3246493 , 12.4248497 ,\n",
              "       12.5250501 , 12.6252505 , 12.7254509 , 12.8256513 , 12.9258517 ,\n",
              "       13.0260521 , 13.12625251, 13.22645291, 13.32665331, 13.42685371,\n",
              "       13.52705411, 13.62725451, 13.72745491, 13.82765531, 13.92785571,\n",
              "       14.02805611, 14.12825651, 14.22845691, 14.32865731, 14.42885772,\n",
              "       14.52905812, 14.62925852, 14.72945892, 14.82965932, 14.92985972,\n",
              "       15.03006012, 15.13026052, 15.23046092, 15.33066132, 15.43086172,\n",
              "       15.53106212, 15.63126253, 15.73146293, 15.83166333, 15.93186373,\n",
              "       16.03206413, 16.13226453, 16.23246493, 16.33266533, 16.43286573,\n",
              "       16.53306613, 16.63326653, 16.73346693, 16.83366733, 16.93386774,\n",
              "       17.03406814, 17.13426854, 17.23446894, 17.33466934, 17.43486974,\n",
              "       17.53507014, 17.63527054, 17.73547094, 17.83567134, 17.93587174,\n",
              "       18.03607214, 18.13627255, 18.23647295, 18.33667335, 18.43687375,\n",
              "       18.53707415, 18.63727455, 18.73747495, 18.83767535, 18.93787575,\n",
              "       19.03807615, 19.13827655, 19.23847695, 19.33867735, 19.43887776,\n",
              "       19.53907816, 19.63927856, 19.73947896, 19.83967936, 19.93987976,\n",
              "       20.04008016, 20.14028056, 20.24048096, 20.34068136, 20.44088176,\n",
              "       20.54108216, 20.64128257, 20.74148297, 20.84168337, 20.94188377,\n",
              "       21.04208417, 21.14228457, 21.24248497, 21.34268537, 21.44288577,\n",
              "       21.54308617, 21.64328657, 21.74348697, 21.84368737, 21.94388778,\n",
              "       22.04408818, 22.14428858, 22.24448898, 22.34468938, 22.44488978,\n",
              "       22.54509018, 22.64529058, 22.74549098, 22.84569138, 22.94589178,\n",
              "       23.04609218, 23.14629259, 23.24649299, 23.34669339, 23.44689379,\n",
              "       23.54709419, 23.64729459, 23.74749499, 23.84769539, 23.94789579,\n",
              "       24.04809619, 24.14829659, 24.24849699, 24.34869739, 24.4488978 ,\n",
              "       24.5490982 , 24.6492986 , 24.749499  , 24.8496994 , 24.9498998 ,\n",
              "       25.0501002 , 25.1503006 , 25.250501  , 25.3507014 , 25.4509018 ,\n",
              "       25.5511022 , 25.65130261, 25.75150301, 25.85170341, 25.95190381,\n",
              "       26.05210421, 26.15230461, 26.25250501, 26.35270541, 26.45290581,\n",
              "       26.55310621, 26.65330661, 26.75350701, 26.85370741, 26.95390782,\n",
              "       27.05410822, 27.15430862, 27.25450902, 27.35470942, 27.45490982,\n",
              "       27.55511022, 27.65531062, 27.75551102, 27.85571142, 27.95591182,\n",
              "       28.05611222, 28.15631263, 28.25651303, 28.35671343, 28.45691383,\n",
              "       28.55711423, 28.65731463, 28.75751503, 28.85771543, 28.95791583,\n",
              "       29.05811623, 29.15831663, 29.25851703, 29.35871743, 29.45891784,\n",
              "       29.55911824, 29.65931864, 29.75951904, 29.85971944, 29.95991984,\n",
              "       30.06012024, 30.16032064, 30.26052104, 30.36072144, 30.46092184,\n",
              "       30.56112224, 30.66132265, 30.76152305, 30.86172345, 30.96192385,\n",
              "       31.06212425, 31.16232465, 31.26252505, 31.36272545, 31.46292585,\n",
              "       31.56312625, 31.66332665, 31.76352705, 31.86372745, 31.96392786,\n",
              "       32.06412826, 32.16432866, 32.26452906, 32.36472946, 32.46492986,\n",
              "       32.56513026, 32.66533066, 32.76553106, 32.86573146, 32.96593186,\n",
              "       33.06613226, 33.16633267, 33.26653307, 33.36673347, 33.46693387,\n",
              "       33.56713427, 33.66733467, 33.76753507, 33.86773547, 33.96793587,\n",
              "       34.06813627, 34.16833667, 34.26853707, 34.36873747, 34.46893788,\n",
              "       34.56913828, 34.66933868, 34.76953908, 34.86973948, 34.96993988,\n",
              "       35.07014028, 35.17034068, 35.27054108, 35.37074148, 35.47094188,\n",
              "       35.57114228, 35.67134269, 35.77154309, 35.87174349, 35.97194389,\n",
              "       36.07214429, 36.17234469, 36.27254509, 36.37274549, 36.47294589,\n",
              "       36.57314629, 36.67334669, 36.77354709, 36.87374749, 36.9739479 ,\n",
              "       37.0741483 , 37.1743487 , 37.2745491 , 37.3747495 , 37.4749499 ,\n",
              "       37.5751503 , 37.6753507 , 37.7755511 , 37.8757515 , 37.9759519 ,\n",
              "       38.0761523 , 38.17635271, 38.27655311, 38.37675351, 38.47695391,\n",
              "       38.57715431, 38.67735471, 38.77755511, 38.87775551, 38.97795591,\n",
              "       39.07815631, 39.17835671, 39.27855711, 39.37875752, 39.47895792,\n",
              "       39.57915832, 39.67935872, 39.77955912, 39.87975952, 39.97995992,\n",
              "       40.08016032, 40.18036072, 40.28056112, 40.38076152, 40.48096192,\n",
              "       40.58116232, 40.68136273, 40.78156313, 40.88176353, 40.98196393,\n",
              "       41.08216433, 41.18236473, 41.28256513, 41.38276553, 41.48296593,\n",
              "       41.58316633, 41.68336673, 41.78356713, 41.88376754, 41.98396794,\n",
              "       42.08416834, 42.18436874, 42.28456914, 42.38476954, 42.48496994,\n",
              "       42.58517034, 42.68537074, 42.78557114, 42.88577154, 42.98597194,\n",
              "       43.08617234, 43.18637275, 43.28657315, 43.38677355, 43.48697395,\n",
              "       43.58717435, 43.68737475, 43.78757515, 43.88777555, 43.98797595,\n",
              "       44.08817635, 44.18837675, 44.28857715, 44.38877756, 44.48897796,\n",
              "       44.58917836, 44.68937876, 44.78957916, 44.88977956, 44.98997996,\n",
              "       45.09018036, 45.19038076, 45.29058116, 45.39078156, 45.49098196,\n",
              "       45.59118236, 45.69138277, 45.79158317, 45.89178357, 45.99198397,\n",
              "       46.09218437, 46.19238477, 46.29258517, 46.39278557, 46.49298597,\n",
              "       46.59318637, 46.69338677, 46.79358717, 46.89378758, 46.99398798,\n",
              "       47.09418838, 47.19438878, 47.29458918, 47.39478958, 47.49498998,\n",
              "       47.59519038, 47.69539078, 47.79559118, 47.89579158, 47.99599198,\n",
              "       48.09619238, 48.19639279, 48.29659319, 48.39679359, 48.49699399,\n",
              "       48.59719439, 48.69739479, 48.79759519, 48.89779559, 48.99799599,\n",
              "       49.09819639, 49.19839679, 49.29859719, 49.3987976 , 49.498998  ,\n",
              "       49.5991984 , 49.6993988 , 49.7995992 , 49.8997996 , 50.        ])"
            ]
          },
          "metadata": {
            "tags": []
          },
          "execution_count": 49
        }
      ]
    },
    {
      "cell_type": "code",
      "metadata": {
        "id": "8DY5RQp--zsx",
        "colab_type": "code",
        "outputId": "3acf8000-538a-44bd-8799-33e1abeba2b3",
        "colab": {
          "base_uri": "https://localhost:8080/",
          "height": 1000
        }
      },
      "source": [
        "y"
      ],
      "execution_count": 50,
      "outputs": [
        {
          "output_type": "execute_result",
          "data": {
            "text/plain": [
              "array([ 1.        ,  0.99498414,  0.97998687,  0.95515865,  0.92074854,\n",
              "        0.87710174,  0.82465609,  0.76393772,  0.69555574,  0.62019614,\n",
              "        0.53861491,  0.45163044,  0.36011533,  0.26498765,  0.16720169,\n",
              "        0.0677384 , -0.03240441, -0.13222216, -0.23071349, -0.32689036,\n",
              "       -0.41978796, -0.50847437, -0.5920599 , -0.66970605, -0.74063389,\n",
              "       -0.80413191, -0.85956309, -0.90637137, -0.94408719, -0.97233219,\n",
              "       -0.99082302, -0.99937418, -0.99789991, -0.98641498, -0.9650346 ,\n",
              "       -0.93397327, -0.89354257, -0.84414811, -0.78628538, -0.72053486,\n",
              "       -0.64755613, -0.5680813 , -0.48290763, -0.39288957, -0.29893015,\n",
              "       -0.20197195, -0.10298761, -0.00297014,  0.09707713,  0.19615055,\n",
              "        0.29325624,  0.38742007,  0.47769741,  0.56318261,  0.64301813,\n",
              "        0.71640307,  0.78260125,  0.84094859,  0.89085976,  0.93183408,\n",
              "        0.9634605 ,  0.98542175,  0.99749752,  0.99956668,  0.99160845,\n",
              "        0.97370269,  0.94602901,  0.90886503,  0.86258357,  0.80764891,\n",
              "        0.74461213,  0.67410562,  0.59683667,  0.51358041,  0.42517206,\n",
              "        0.3324985 ,  0.23648941,  0.13810792,  0.03834097, -0.0618106 ,\n",
              "       -0.16134211, -0.25925508, -0.35456727, -0.44632255, -0.53360043,\n",
              "       -0.61552539, -0.69127557, -0.76009106, -0.82128153, -0.87423313,\n",
              "       -0.91841467, -0.95338292, -0.9787871 , -0.99437236, -0.99998236,\n",
              "       -0.9955608 , -0.98115206, -0.95690067, -0.92304992, -0.87993939,\n",
              "       -0.82800155, -0.76775743, -0.69981138, -0.62484501, -0.54361037,\n",
              "       -0.45692239, -0.36565068, -0.27071087, -0.17305537, -0.07366382,\n",
              "        0.02646671,  0.12633173,  0.22492942,  0.32127069,  0.41438905,\n",
              "        0.50335038,  0.58726224,  0.66528285,  0.73662952,  0.80058653,\n",
              "        0.85651228,  0.90384573,  0.94211206,  0.97092737,  0.99000262,\n",
              "        0.99914643,  0.99826708,  0.98737339,  0.96657465,  0.9360795 ,\n",
              "        0.89619385,  0.84731784,  0.78994177,  0.72464123,  0.65207128,\n",
              "        0.57295994,  0.48810082,  0.39834521,  0.30459351,  0.20778621,\n",
              "        0.10889446,  0.00891031, -0.09116323, -0.19032224, -0.28757199,\n",
              "       -0.3819369 , -0.47247032, -0.55826406, -0.63845744, -0.71224599,\n",
              "       -0.77888949, -0.83771939, -0.88814552, -0.92966202, -0.9618524 ,\n",
              "       -0.98439375, -0.99705994, -0.9997239 , -0.9923589 , -0.97503883,\n",
              "       -0.94793745, -0.91132662, -0.86557361, -0.81113741, -0.7485641 ,\n",
              "       -0.6784814 , -0.60159237, -0.51866833, -0.43054115, -0.33809491,\n",
              "       -0.24225699, -0.14398881, -0.04427618,  0.05588062,  0.15547684,\n",
              "        0.25351336,  0.3490067 ,  0.44099891,  0.52856713,  0.61083292,\n",
              "        0.686971  ,  0.75621758,  0.81787799,  0.87133368,  0.91604839,\n",
              "        0.95157355,  0.9775528 ,  0.9937255 ,  0.99992943,  0.99610234,\n",
              "        0.98228263,  0.95860893,  0.92531873,  0.88274599,  0.83131779,\n",
              "        0.77155004,  0.70404232,  0.62947183,  0.54858666,  0.46219822,\n",
              "        0.37117313,  0.27642454,  0.17890294,  0.07958663, -0.02052807,\n",
              "       -0.12043684, -0.21913742, -0.31563968, -0.40897552, -0.49820864,\n",
              "       -0.58244386, -0.66083617, -0.73259915, -0.79701291, -0.85343125,\n",
              "       -0.9012882 , -0.94010368, -0.9694883 , -0.98914728, -0.99888342,\n",
              "       -0.99859903, -0.98829697, -0.96808059, -0.93815269, -0.89881351,\n",
              "       -0.85045768, -0.79357029, -0.72872203, -0.65656343, -0.57781836,\n",
              "       -0.49327678, -0.40378679, -0.31024612, -0.21359315, -0.11479746,\n",
              "       -0.01485017,  0.0852461 ,  0.18448721,  0.28187759,  0.37644025,\n",
              "        0.46722657,  0.5533258 ,  0.63387422,  0.70806379,  0.77515026,\n",
              "        0.83446063,  0.88539993,  0.92745715,  0.96021037,  0.98333102,\n",
              "        0.99658717,  0.99984584,  0.99307433,  0.97634057,  0.94981243,\n",
              "        0.91375604,  0.8685331 ,  0.81459728,  0.75248965,  0.68283324,\n",
              "        0.60632685,  0.52373795,  0.43589505,  0.34367938,  0.24801601,\n",
              "        0.14986462,  0.05020982, -0.04994867, -0.14960608, -0.24776269,\n",
              "       -0.34343381, -0.43565971, -0.52351518, -0.60611889, -0.68264219,\n",
              "       -0.75231741, -0.81444559, -0.86840348, -0.91364978, -0.9497306 ,\n",
              "       -0.97628399, -0.99304357, -0.99984121, -0.99660872, -0.98337853,\n",
              "       -0.96028336, -0.92755489, -0.88552145, -0.8346047 , -0.77531543,\n",
              "       -0.70824841, -0.63407644, -0.55354359, -0.46745774, -0.37668249,\n",
              "       -0.28212846, -0.1847442 , -0.08550663,  0.01458871,  0.11453771,\n",
              "        0.21333769,  0.30999753,  0.40354756,  0.49304931,  0.57760493,\n",
              "        0.65636617,  0.72854294,  0.79341116,  0.8503201 ,  0.89869886,\n",
              "        0.93806213,  0.96801502,  0.98825705,  0.99858516,  0.99889574,\n",
              "        0.98918567,  0.96955237,  0.94019278,  0.90140145,  0.8535675 ,\n",
              "        0.79717081,  0.73277711,  0.6610324 ,  0.58265639,  0.49843534,\n",
              "        0.40921412,  0.31588778,  0.21939254,  0.12069642,  0.0207895 ,\n",
              "       -0.07932597, -0.17864567, -0.27617324, -0.37093032, -0.46196633,\n",
              "       -0.54836802, -0.62926863, -0.7038566 , -0.77138367, -0.83117243,\n",
              "       -0.88262311, -0.92521955, -0.95853445, -0.98223359, -0.99607924,\n",
              "       -0.9999325 , -0.99375471, -0.97760785, -0.9516539 , -0.91615323,\n",
              "       -0.87146195, -0.81802842, -0.75638864, -0.68716099, -0.61103993,\n",
              "       -0.52878908, -0.44123357, -0.34925173, -0.25376629, -0.15573514,\n",
              "       -0.05614169,  0.04401495,  0.14373005,  0.24200328,  0.33784881,\n",
              "        0.43030513,  0.51844475,  0.60138348,  0.67828929,  0.74839069,\n",
              "        0.81098445,  0.86544263,  0.91121894,  0.94785414,  0.97498074,\n",
              "        0.9923266 ,  0.99971772,  0.99707994,  0.98443974,  0.96192391,\n",
              "        0.92975832,  0.88826566,  0.83786216,  0.77905346,  0.71242951,\n",
              "        0.63865867,  0.55848098,  0.47270077,  0.38217855,  0.28782242,\n",
              "        0.19057894,  0.09142362, -0.00864884, -0.10863453, -0.20753043,\n",
              "       -0.30434444, -0.39810535, -0.48787258, -0.57274561, -0.65187302,\n",
              "       -0.72446101, -0.78978141, -0.84717894, -0.89607781, -0.93598748,\n",
              "       -0.96650758, -0.98733194, -0.99825166, -0.9991572 , -0.99003947,\n",
              "       -0.97098993, -0.9421997 , -0.90395758, -0.85664721, -0.80074319,\n",
              "       -0.73680634, -0.66547805, -0.58747387, -0.50357631, -0.41462702,\n",
              "       -0.3215183 , -0.2251842 , -0.12659111, -0.0267281 ,  0.07340304,\n",
              "        0.17279782,  0.27045914,  0.3654073 ,  0.45668978,  0.54339088,\n",
              "        0.62464084,  0.69962457,  0.76758986,  0.8278549 ,  0.87981513,\n",
              "        0.9229493 ,  0.9568247 ,  0.9811015 ,  0.99553616,  0.99998388,\n",
              "        0.99440003,  0.97884064,  0.95346179,  0.91851808,  0.87436005,\n",
              "        0.82143068,  0.76026095,  0.69146449,  0.61573145,  0.53382156,\n",
              "        0.44655652,  0.35481176,  0.25950761,  0.16160016,  0.06207158,\n",
              "       -0.03807968, -0.13784894, -0.23623533, -0.33225188, -0.42493537,\n",
              "       -0.51335603, -0.59662684, -0.67391246, -0.74443757, -0.80749469,\n",
              "       -0.86245125, -0.90875594, -0.94594424, -0.97364308, -0.99157462,\n",
              "       -0.99955895, -0.99751598, -0.9854662 , -0.96353051, -0.93192894,\n",
              "       -0.89097852, -0.84109005, -0.782764  , -0.71658548, -0.64321837,\n",
              "       -0.56339867, -0.47792711, -0.38766112, -0.29350622, -0.19640695,\n",
              "       -0.09733738,  0.00270866,  0.10272752,  0.20171584,  0.29868061,\n",
              "        0.3926491 ,  0.48267864,  0.56786609,  0.64735685,  0.72035352,\n",
              "        0.7861238 ,  0.8440079 ,  0.89342514,  0.9338798 ,  0.96496603])"
            ]
          },
          "metadata": {
            "tags": []
          },
          "execution_count": 50
        }
      ]
    },
    {
      "cell_type": "code",
      "metadata": {
        "id": "OaWmmjxQ-9A_",
        "colab_type": "code",
        "outputId": "ac0f0808-4076-432e-d85c-970366eaaa7a",
        "colab": {
          "base_uri": "https://localhost:8080/",
          "height": 282
        }
      },
      "source": [
        "plt.plot(x,y)"
      ],
      "execution_count": 51,
      "outputs": [
        {
          "output_type": "execute_result",
          "data": {
            "text/plain": [
              "[<matplotlib.lines.Line2D at 0x7f0bdaee7550>]"
            ]
          },
          "metadata": {
            "tags": []
          },
          "execution_count": 51
        },
        {
          "output_type": "display_data",
          "data": {
            "image/png": "[encoded data removed]",
            "text/plain": [
              "<Figure size 432x288 with 1 Axes>"
            ]
          },
          "metadata": {
            "tags": []
          }
        }
      ]
    },
    {
      "cell_type": "code",
      "metadata": {
        "id": "740Cp_cR_FeP",
        "colab_type": "code",
        "colab": {}
      },
      "source": [
        "data = pd.DataFrame(index=x,data=y,columns=['cosine'])"
      ],
      "execution_count": 0,
      "outputs": []
    },
    {
      "cell_type": "code",
      "metadata": {
        "id": "e8-FmNzZ_oXY",
        "colab_type": "code",
        "outputId": "78eddf41-b525-4abf-c8e0-2526f878c1aa",
        "colab": {
          "base_uri": "https://localhost:8080/",
          "height": 204
        }
      },
      "source": [
        "data.head()"
      ],
      "execution_count": 53,
      "outputs": [
        {
          "output_type": "execute_result",
          "data": {
            "text/html": [
              "<div>\n",
              "<style scoped>\n",
              "    .dataframe tbody tr th:only-of-type {\n",
              "        vertical-align: middle;\n",
              "    }\n",
              "\n",
              "    .dataframe tbody tr th {\n",
              "        vertical-align: top;\n",
              "    }\n",
              "\n",
              "    .dataframe thead th {\n",
              "        text-align: right;\n",
              "    }\n",
              "</style>\n",
              "<table border=\"1\" class=\"dataframe\">\n",
              "  <thead>\n",
              "    <tr style=\"text-align: right;\">\n",
              "      <th></th>\n",
              "      <th>cosine</th>\n",
              "    </tr>\n",
              "  </thead>\n",
              "  <tbody>\n",
              "    <tr>\n",
              "      <th>0.000000</th>\n",
              "      <td>1.000000</td>\n",
              "    </tr>\n",
              "    <tr>\n",
              "      <th>0.100200</th>\n",
              "      <td>0.994984</td>\n",
              "    </tr>\n",
              "    <tr>\n",
              "      <th>0.200401</th>\n",
              "      <td>0.979987</td>\n",
              "    </tr>\n",
              "    <tr>\n",
              "      <th>0.300601</th>\n",
              "      <td>0.955159</td>\n",
              "    </tr>\n",
              "    <tr>\n",
              "      <th>0.400802</th>\n",
              "      <td>0.920749</td>\n",
              "    </tr>\n",
              "  </tbody>\n",
              "</table>\n",
              "</div>"
            ],
            "text/plain": [
              "            cosine\n",
              "0.000000  1.000000\n",
              "0.100200  0.994984\n",
              "0.200401  0.979987\n",
              "0.300601  0.955159\n",
              "0.400802  0.920749"
            ]
          },
          "metadata": {
            "tags": []
          },
          "execution_count": 53
        }
      ]
    },
    {
      "cell_type": "code",
      "metadata": {
        "id": "HOLvE3fk_wpt",
        "colab_type": "code",
        "colab": {}
      },
      "source": [
        "test_ind = 50"
      ],
      "execution_count": 0,
      "outputs": []
    },
    {
      "cell_type": "code",
      "metadata": {
        "id": "W-ZB6HRn_2cM",
        "colab_type": "code",
        "outputId": "368c93ba-3f3c-40fb-c630-a0c31ed546b0",
        "colab": {
          "base_uri": "https://localhost:8080/",
          "height": 34
        }
      },
      "source": [
        "len(data)-test_ind"
      ],
      "execution_count": 55,
      "outputs": [
        {
          "output_type": "execute_result",
          "data": {
            "text/plain": [
              "450"
            ]
          },
          "metadata": {
            "tags": []
          },
          "execution_count": 55
        }
      ]
    },
    {
      "cell_type": "code",
      "metadata": {
        "id": "6jFo_qbd_-uE",
        "colab_type": "code",
        "colab": {}
      },
      "source": [
        "train = data.iloc[:450]"
      ],
      "execution_count": 0,
      "outputs": []
    },
    {
      "cell_type": "code",
      "metadata": {
        "id": "J9vADRetADWz",
        "colab_type": "code",
        "colab": {}
      },
      "source": [
        "test = data.iloc[450:]"
      ],
      "execution_count": 0,
      "outputs": []
    },
    {
      "cell_type": "code",
      "metadata": {
        "id": "FAViHdRRAMEH",
        "colab_type": "code",
        "outputId": "cddd6ed4-3bce-48b3-852f-e06240b4cca6",
        "colab": {
          "base_uri": "https://localhost:8080/",
          "height": 34
        }
      },
      "source": [
        "train.shape"
      ],
      "execution_count": 58,
      "outputs": [
        {
          "output_type": "execute_result",
          "data": {
            "text/plain": [
              "(450, 1)"
            ]
          },
          "metadata": {
            "tags": []
          },
          "execution_count": 58
        }
      ]
    },
    {
      "cell_type": "code",
      "metadata": {
        "id": "_KbsOpiMANeC",
        "colab_type": "code",
        "outputId": "1e2c7c2f-8456-40c6-c53a-eeaf02988a28",
        "colab": {
          "base_uri": "https://localhost:8080/",
          "height": 34
        }
      },
      "source": [
        "test.shape"
      ],
      "execution_count": 59,
      "outputs": [
        {
          "output_type": "execute_result",
          "data": {
            "text/plain": [
              "(50, 1)"
            ]
          },
          "metadata": {
            "tags": []
          },
          "execution_count": 59
        }
      ]
    },
    {
      "cell_type": "code",
      "metadata": {
        "id": "Z82_mcZwAP37",
        "colab_type": "code",
        "colab": {}
      },
      "source": [
        "from sklearn.preprocessing import MinMaxScaler"
      ],
      "execution_count": 0,
      "outputs": []
    },
    {
      "cell_type": "code",
      "metadata": {
        "id": "g_PwvyJnAW_t",
        "colab_type": "code",
        "colab": {}
      },
      "source": [
        "scaler = MinMaxScaler()"
      ],
      "execution_count": 0,
      "outputs": []
    },
    {
      "cell_type": "code",
      "metadata": {
        "id": "9onOLCDBArO7",
        "colab_type": "code",
        "colab": {}
      },
      "source": [
        "scal_train = scaler.fit_transform(train)"
      ],
      "execution_count": 0,
      "outputs": []
    },
    {
      "cell_type": "code",
      "metadata": {
        "id": "pRCATEUtAvZG",
        "colab_type": "code",
        "colab": {}
      },
      "source": [
        "scal_test = scaler.transform(test)"
      ],
      "execution_count": 0,
      "outputs": []
    },
    {
      "cell_type": "code",
      "metadata": {
        "id": "IAdixPsNBdM0",
        "colab_type": "code",
        "colab": {}
      },
      "source": [
        "from tensorflow.keras.preprocessing.sequence import TimeseriesGenerator"
      ],
      "execution_count": 0,
      "outputs": []
    },
    {
      "cell_type": "code",
      "metadata": {
        "id": "t7UUo8_xBvPz",
        "colab_type": "code",
        "colab": {}
      },
      "source": [
        "length = 25\n",
        "batch_size=1"
      ],
      "execution_count": 0,
      "outputs": []
    },
    {
      "cell_type": "code",
      "metadata": {
        "id": "T2ziQMNmB9CZ",
        "colab_type": "code",
        "colab": {}
      },
      "source": [
        "generator = TimeseriesGenerator(scal_train,scal_train,length=length,batch_size=batch_size)"
      ],
      "execution_count": 0,
      "outputs": []
    },
    {
      "cell_type": "code",
      "metadata": {
        "id": "99MZ54c3Ayz-",
        "colab_type": "code",
        "colab": {}
      },
      "source": [
        "from tensorflow.keras.models import Sequential\n",
        "from tensorflow.keras.layers import Dense,SimpleRNN,LSTM"
      ],
      "execution_count": 0,
      "outputs": []
    },
    {
      "cell_type": "code",
      "metadata": {
        "id": "zvmLjRE8lkjq",
        "colab_type": "code",
        "colab": {}
      },
      "source": [
        "n_feature = 1"
      ],
      "execution_count": 0,
      "outputs": []
    },
    {
      "cell_type": "code",
      "metadata": {
        "id": "eWYOHvfhBEN0",
        "colab_type": "code",
        "colab": {}
      },
      "source": [
        "model = Sequential()\n",
        "model.add(SimpleRNN(40,input_shape=(length,n_feature)))\n",
        "model.add(Dense(1))"
      ],
      "execution_count": 0,
      "outputs": []
    },
    {
      "cell_type": "code",
      "metadata": {
        "id": "zeqXMDqkCkrf",
        "colab_type": "code",
        "colab": {}
      },
      "source": [
        "model.compile(loss='mse',optimizer='adam')"
      ],
      "execution_count": 0,
      "outputs": []
    },
    {
      "cell_type": "code",
      "metadata": {
        "id": "Vu1DUpAjC50F",
        "colab_type": "code",
        "outputId": "59f094ec-5522-43c7-8fc5-523c40a036ed",
        "colab": {
          "base_uri": "https://localhost:8080/",
          "height": 374
        }
      },
      "source": [
        "model.fit_generator(generator,epochs=10)"
      ],
      "execution_count": 71,
      "outputs": [
        {
          "output_type": "stream",
          "text": [
            "Epoch 1/10\n",
            "425/425 [==============================] - 4s 9ms/step - loss: 0.0155\n",
            "Epoch 2/10\n",
            "425/425 [==============================] - 3s 8ms/step - loss: 9.2622e-04\n",
            "Epoch 3/10\n",
            "425/425 [==============================] - 4s 8ms/step - loss: 1.9312e-04\n",
            "Epoch 4/10\n",
            "425/425 [==============================] - 4s 8ms/step - loss: 8.1978e-05\n",
            "Epoch 5/10\n",
            "425/425 [==============================] - 3s 8ms/step - loss: 7.7565e-04\n",
            "Epoch 6/10\n",
            "425/425 [==============================] - 3s 8ms/step - loss: 8.0060e-05\n",
            "Epoch 7/10\n",
            "425/425 [==============================] - 3s 8ms/step - loss: 2.3634e-05\n",
            "Epoch 8/10\n",
            "425/425 [==============================] - 3s 8ms/step - loss: 9.3973e-04\n",
            "Epoch 9/10\n",
            "425/425 [==============================] - 3s 8ms/step - loss: 3.6710e-05\n",
            "Epoch 10/10\n",
            "425/425 [==============================] - 3s 8ms/step - loss: 1.3315e-05\n"
          ],
          "name": "stdout"
        },
        {
          "output_type": "execute_result",
          "data": {
            "text/plain": [
              "<tensorflow.python.keras.callbacks.History at 0x7f0bdadd3208>"
            ]
          },
          "metadata": {
            "tags": []
          },
          "execution_count": 71
        }
      ]
    },
    {
      "cell_type": "code",
      "metadata": {
        "id": "km9JGmyBDEOR",
        "colab_type": "code",
        "colab": {}
      },
      "source": [
        "losses = pd.DataFrame(model.history.history)"
      ],
      "execution_count": 0,
      "outputs": []
    },
    {
      "cell_type": "code",
      "metadata": {
        "id": "ZdG3w5auDcuE",
        "colab_type": "code",
        "outputId": "2e098403-857e-4a97-9037-372de4a77b7c",
        "colab": {
          "base_uri": "https://localhost:8080/",
          "height": 282
        }
      },
      "source": [
        "plt.plot(losses)"
      ],
      "execution_count": 73,
      "outputs": [
        {
          "output_type": "execute_result",
          "data": {
            "text/plain": [
              "[<matplotlib.lines.Line2D at 0x7f0bd84ac5f8>]"
            ]
          },
          "metadata": {
            "tags": []
          },
          "execution_count": 73
        },
        {
          "output_type": "display_data",
          "data": {
            "image/png": "[encoded data removed]",
            "text/plain": [
              "<Figure size 432x288 with 1 Axes>"
            ]
          },
          "metadata": {
            "tags": []
          }
        }
      ]
    },
    {
      "cell_type": "code",
      "metadata": {
        "id": "XXxGSTJfnmCI",
        "colab_type": "code",
        "colab": {}
      },
      "source": [
        "test_predictions = []\n",
        "\n",
        "first_eval_batch = scal_train[-length:]\n",
        "current_batch = first_eval_batch.reshape((1, length, n_feature))\n",
        "\n",
        "for i in range(len(test)):\n",
        "    \n",
        "    # get prediction 1 time stamp ahead ([0] is for grabbing just the number instead of [array])\n",
        "    current_pred = model.predict(current_batch)[0]\n",
        "    \n",
        "    # store prediction\n",
        "    test_predictions.append(current_pred) \n",
        "    \n",
        "    # update batch to now include prediction and drop first value\n",
        "    current_batch = np.append(current_batch[:,1:,:],[[current_pred]],axis=1)"
      ],
      "execution_count": 0,
      "outputs": []
    },
    {
      "cell_type": "code",
      "metadata": {
        "id": "SA40I1dgpeyD",
        "colab_type": "code",
        "colab": {
          "base_uri": "https://localhost:8080/",
          "height": 867
        },
        "outputId": "26c7d875-53b4-4a50-bb84-9a7020294cba"
      },
      "source": [
        "test_predictions"
      ],
      "execution_count": 77,
      "outputs": [
        {
          "output_type": "execute_result",
          "data": {
            "text/plain": [
              "[array([0.7245493], dtype=float32),\n",
              " array([0.67846143], dtype=float32),\n",
              " array([0.6311724], dtype=float32),\n",
              " array([0.58226585], dtype=float32),\n",
              " array([0.531505], dtype=float32),\n",
              " array([0.48123085], dtype=float32),\n",
              " array([0.43018782], dtype=float32),\n",
              " array([0.37965566], dtype=float32),\n",
              " array([0.33056432], dtype=float32),\n",
              " array([0.28235555], dtype=float32),\n",
              " array([0.23687395], dtype=float32),\n",
              " array([0.19386008], dtype=float32),\n",
              " array([0.15381235], dtype=float32),\n",
              " array([0.11832979], dtype=float32),\n",
              " array([0.08599913], dtype=float32),\n",
              " array([0.05888546], dtype=float32),\n",
              " array([0.03685962], dtype=float32),\n",
              " array([0.01868277], dtype=float32),\n",
              " array([0.0071214], dtype=float32),\n",
              " array([-0.0001558], dtype=float32),\n",
              " array([-0.00254884], dtype=float32),\n",
              " array([0.0015619], dtype=float32),\n",
              " array([0.00884752], dtype=float32),\n",
              " array([0.02214183], dtype=float32),\n",
              " array([0.0400482], dtype=float32),\n",
              " array([0.0610433], dtype=float32),\n",
              " array([0.08823234], dtype=float32),\n",
              " array([0.11764663], dtype=float32),\n",
              " array([0.15133068], dtype=float32),\n",
              " array([0.18953606], dtype=float32),\n",
              " array([0.22860217], dtype=float32),\n",
              " array([0.27296388], dtype=float32),\n",
              " array([0.31865534], dtype=float32),\n",
              " array([0.36553794], dtype=float32),\n",
              " array([0.41689035], dtype=float32),\n",
              " array([0.46617], dtype=float32),\n",
              " array([0.51804197], dtype=float32),\n",
              " array([0.57073414], dtype=float32),\n",
              " array([0.6197827], dtype=float32),\n",
              " array([0.6719513], dtype=float32),\n",
              " array([0.71965516], dtype=float32),\n",
              " array([0.7650573], dtype=float32),\n",
              " array([0.8111237], dtype=float32),\n",
              " array([0.8489814], dtype=float32),\n",
              " array([0.88722205], dtype=float32),\n",
              " array([0.9206319], dtype=float32),\n",
              " array([0.9463583], dtype=float32),\n",
              " array([0.97311676], dtype=float32),\n",
              " array([0.9896066], dtype=float32),\n",
              " array([1.0028157], dtype=float32)]"
            ]
          },
          "metadata": {
            "tags": []
          },
          "execution_count": 77
        }
      ]
    },
    {
      "cell_type": "code",
      "metadata": {
        "id": "Ej7SpBdgpsQs",
        "colab_type": "code",
        "colab": {
          "base_uri": "https://localhost:8080/",
          "height": 867
        },
        "outputId": "0f96ec5e-d0d1-479a-8732-5499b776f809"
      },
      "source": [
        "scal_test"
      ],
      "execution_count": 78,
      "outputs": [
        {
          "output_type": "execute_result",
          "data": {
            "text/plain": [
              "array([[7.23275821e-01],\n",
              "       [6.77403032e-01],\n",
              "       [6.29750541e-01],\n",
              "       [5.80796384e-01],\n",
              "       [5.31031655e-01],\n",
              "       [4.80955582e-01],\n",
              "       [4.31070512e-01],\n",
              "       [3.81876880e-01],\n",
              "       [3.33868182e-01],\n",
              "       [2.87526028e-01],\n",
              "       [2.43315310e-01],\n",
              "       [2.01679537e-01],\n",
              "       [1.63036389e-01],\n",
              "       [1.27773521e-01],\n",
              "       [9.62446821e-02],\n",
              "       [6.87661603e-02],\n",
              "       [4.56136127e-02],\n",
              "       [2.70192990e-02],\n",
              "       [1.31697524e-02],\n",
              "       [4.20390767e-03],\n",
              "       [2.11707626e-04],\n",
              "       [1.23320094e-03],\n",
              "       [7.25814028e-03],\n",
              "       [1.82260851e-02],\n",
              "       [3.40270081e-02],\n",
              "       [5.45023986e-02],\n",
              "       [7.94468534e-02],\n",
              "       [1.08610137e-01],\n",
              "       [1.41699690e-01],\n",
              "       [1.78383569e-01],\n",
              "       [2.18293770e-01],\n",
              "       [2.61029926e-01],\n",
              "       [3.06163319e-01],\n",
              "       [3.53241184e-01],\n",
              "       [4.01791248e-01],\n",
              "       [4.51326471e-01],\n",
              "       [5.01349929e-01],\n",
              "       [5.51359801e-01],\n",
              "       [6.00854401e-01],\n",
              "       [6.49337213e-01],\n",
              "       [6.96321872e-01],\n",
              "       [7.41337040e-01],\n",
              "       [7.83931137e-01],\n",
              "       [8.23676872e-01],\n",
              "       [8.60175526e-01],\n",
              "       [8.93060954e-01],\n",
              "       [9.22003260e-01],\n",
              "       [9.46712102e-01],\n",
              "       [9.66939607e-01],\n",
              "       [9.82482860e-01]])"
            ]
          },
          "metadata": {
            "tags": []
          },
          "execution_count": 78
        }
      ]
    },
    {
      "cell_type": "code",
      "metadata": {
        "id": "4s4InjYRpu93",
        "colab_type": "code",
        "colab": {}
      },
      "source": [
        "true_predictions = scaler.inverse_transform(test_predictions)"
      ],
      "execution_count": 0,
      "outputs": []
    },
    {
      "cell_type": "code",
      "metadata": {
        "id": "ILibhRe9p7QD",
        "colab_type": "code",
        "colab": {
          "base_uri": "https://localhost:8080/",
          "height": 867
        },
        "outputId": "851a99f9-a3bf-4e61-d9ec-06700b63f0c2"
      },
      "source": [
        "true_predictions"
      ],
      "execution_count": 80,
      "outputs": [
        {
          "output_type": "execute_result",
          "data": {
            "text/plain": [
              "array([[ 0.44910345],\n",
              "       [ 0.35692854],\n",
              "       [ 0.26235134],\n",
              "       [ 0.16453908],\n",
              "       [ 0.06301824],\n",
              "       [-0.03752914],\n",
              "       [-0.1396143 ],\n",
              "       [-0.24067774],\n",
              "       [-0.33885955],\n",
              "       [-0.43527624],\n",
              "       [-0.52623863],\n",
              "       [-0.61226561],\n",
              "       [-0.69236037],\n",
              "       [-0.76332486],\n",
              "       [-0.82798561],\n",
              "       [-0.88221249],\n",
              "       [-0.92626377],\n",
              "       [-0.96261715],\n",
              "       [-0.98573967],\n",
              "       [-1.00029395],\n",
              "       [-1.00507999],\n",
              "       [-0.99685859],\n",
              "       [-0.98228748],\n",
              "       [-0.95569909],\n",
              "       [-0.91988666],\n",
              "       [-0.87789683],\n",
              "       [-0.82351924],\n",
              "       [-0.76469118],\n",
              "       [-0.69732367],\n",
              "       [-0.62091357],\n",
              "       [-0.54278205],\n",
              "       [-0.45405941],\n",
              "       [-0.3626773 ],\n",
              "       [-0.26891292],\n",
              "       [-0.16620901],\n",
              "       [-0.06765056],\n",
              "       [ 0.03609244],\n",
              "       [ 0.14147586],\n",
              "       [ 0.23957208],\n",
              "       [ 0.34390838],\n",
              "       [ 0.43931526],\n",
              "       [ 0.5301188 ],\n",
              "       [ 0.62225079],\n",
              "       [ 0.69796543],\n",
              "       [ 0.77444609],\n",
              "       [ 0.84126517],\n",
              "       [ 0.89271759],\n",
              "       [ 0.94623399],\n",
              "       [ 0.97921342],\n",
              "       [ 1.0056314 ]])"
            ]
          },
          "metadata": {
            "tags": []
          },
          "execution_count": 80
        }
      ]
    },
    {
      "cell_type": "code",
      "metadata": {
        "id": "yBHvfbXAp9hC",
        "colab_type": "code",
        "colab": {
          "base_uri": "https://localhost:8080/",
          "height": 1000
        },
        "outputId": "b7e249f4-9482-4534-ab86-1207893da019"
      },
      "source": [
        "test"
      ],
      "execution_count": 81,
      "outputs": [
        {
          "output_type": "execute_result",
          "data": {
            "text/html": [
              "<div>\n",
              "<style scoped>\n",
              "    .dataframe tbody tr th:only-of-type {\n",
              "        vertical-align: middle;\n",
              "    }\n",
              "\n",
              "    .dataframe tbody tr th {\n",
              "        vertical-align: top;\n",
              "    }\n",
              "\n",
              "    .dataframe thead th {\n",
              "        text-align: right;\n",
              "    }\n",
              "</style>\n",
              "<table border=\"1\" class=\"dataframe\">\n",
              "  <thead>\n",
              "    <tr style=\"text-align: right;\">\n",
              "      <th></th>\n",
              "      <th>cosine</th>\n",
              "    </tr>\n",
              "  </thead>\n",
              "  <tbody>\n",
              "    <tr>\n",
              "      <th>45.090180</th>\n",
              "      <td>0.446557</td>\n",
              "    </tr>\n",
              "    <tr>\n",
              "      <th>45.190381</th>\n",
              "      <td>0.354812</td>\n",
              "    </tr>\n",
              "    <tr>\n",
              "      <th>45.290581</th>\n",
              "      <td>0.259508</td>\n",
              "    </tr>\n",
              "    <tr>\n",
              "      <th>45.390782</th>\n",
              "      <td>0.161600</td>\n",
              "    </tr>\n",
              "    <tr>\n",
              "      <th>45.490982</th>\n",
              "      <td>0.062072</td>\n",
              "    </tr>\n",
              "    <tr>\n",
              "      <th>45.591182</th>\n",
              "      <td>-0.038080</td>\n",
              "    </tr>\n",
              "    <tr>\n",
              "      <th>45.691383</th>\n",
              "      <td>-0.137849</td>\n",
              "    </tr>\n",
              "    <tr>\n",
              "      <th>45.791583</th>\n",
              "      <td>-0.236235</td>\n",
              "    </tr>\n",
              "    <tr>\n",
              "      <th>45.891784</th>\n",
              "      <td>-0.332252</td>\n",
              "    </tr>\n",
              "    <tr>\n",
              "      <th>45.991984</th>\n",
              "      <td>-0.424935</td>\n",
              "    </tr>\n",
              "    <tr>\n",
              "      <th>46.092184</th>\n",
              "      <td>-0.513356</td>\n",
              "    </tr>\n",
              "    <tr>\n",
              "      <th>46.192385</th>\n",
              "      <td>-0.596627</td>\n",
              "    </tr>\n",
              "    <tr>\n",
              "      <th>46.292585</th>\n",
              "      <td>-0.673912</td>\n",
              "    </tr>\n",
              "    <tr>\n",
              "      <th>46.392786</th>\n",
              "      <td>-0.744438</td>\n",
              "    </tr>\n",
              "    <tr>\n",
              "      <th>46.492986</th>\n",
              "      <td>-0.807495</td>\n",
              "    </tr>\n",
              "    <tr>\n",
              "      <th>46.593186</th>\n",
              "      <td>-0.862451</td>\n",
              "    </tr>\n",
              "    <tr>\n",
              "      <th>46.693387</th>\n",
              "      <td>-0.908756</td>\n",
              "    </tr>\n",
              "    <tr>\n",
              "      <th>46.793587</th>\n",
              "      <td>-0.945944</td>\n",
              "    </tr>\n",
              "    <tr>\n",
              "      <th>46.893788</th>\n",
              "      <td>-0.973643</td>\n",
              "    </tr>\n",
              "    <tr>\n",
              "      <th>46.993988</th>\n",
              "      <td>-0.991575</td>\n",
              "    </tr>\n",
              "    <tr>\n",
              "      <th>47.094188</th>\n",
              "      <td>-0.999559</td>\n",
              "    </tr>\n",
              "    <tr>\n",
              "      <th>47.194389</th>\n",
              "      <td>-0.997516</td>\n",
              "    </tr>\n",
              "    <tr>\n",
              "      <th>47.294589</th>\n",
              "      <td>-0.985466</td>\n",
              "    </tr>\n",
              "    <tr>\n",
              "      <th>47.394790</th>\n",
              "      <td>-0.963531</td>\n",
              "    </tr>\n",
              "    <tr>\n",
              "      <th>47.494990</th>\n",
              "      <td>-0.931929</td>\n",
              "    </tr>\n",
              "    <tr>\n",
              "      <th>47.595190</th>\n",
              "      <td>-0.890979</td>\n",
              "    </tr>\n",
              "    <tr>\n",
              "      <th>47.695391</th>\n",
              "      <td>-0.841090</td>\n",
              "    </tr>\n",
              "    <tr>\n",
              "      <th>47.795591</th>\n",
              "      <td>-0.782764</td>\n",
              "    </tr>\n",
              "    <tr>\n",
              "      <th>47.895792</th>\n",
              "      <td>-0.716585</td>\n",
              "    </tr>\n",
              "    <tr>\n",
              "      <th>47.995992</th>\n",
              "      <td>-0.643218</td>\n",
              "    </tr>\n",
              "    <tr>\n",
              "      <th>48.096192</th>\n",
              "      <td>-0.563399</td>\n",
              "    </tr>\n",
              "    <tr>\n",
              "      <th>48.196393</th>\n",
              "      <td>-0.477927</td>\n",
              "    </tr>\n",
              "    <tr>\n",
              "      <th>48.296593</th>\n",
              "      <td>-0.387661</td>\n",
              "    </tr>\n",
              "    <tr>\n",
              "      <th>48.396794</th>\n",
              "      <td>-0.293506</td>\n",
              "    </tr>\n",
              "    <tr>\n",
              "      <th>48.496994</th>\n",
              "      <td>-0.196407</td>\n",
              "    </tr>\n",
              "    <tr>\n",
              "      <th>48.597194</th>\n",
              "      <td>-0.097337</td>\n",
              "    </tr>\n",
              "    <tr>\n",
              "      <th>48.697395</th>\n",
              "      <td>0.002709</td>\n",
              "    </tr>\n",
              "    <tr>\n",
              "      <th>48.797595</th>\n",
              "      <td>0.102728</td>\n",
              "    </tr>\n",
              "    <tr>\n",
              "      <th>48.897796</th>\n",
              "      <td>0.201716</td>\n",
              "    </tr>\n",
              "    <tr>\n",
              "      <th>48.997996</th>\n",
              "      <td>0.298681</td>\n",
              "    </tr>\n",
              "    <tr>\n",
              "      <th>49.098196</th>\n",
              "      <td>0.392649</td>\n",
              "    </tr>\n",
              "    <tr>\n",
              "      <th>49.198397</th>\n",
              "      <td>0.482679</td>\n",
              "    </tr>\n",
              "    <tr>\n",
              "      <th>49.298597</th>\n",
              "      <td>0.567866</td>\n",
              "    </tr>\n",
              "    <tr>\n",
              "      <th>49.398798</th>\n",
              "      <td>0.647357</td>\n",
              "    </tr>\n",
              "    <tr>\n",
              "      <th>49.498998</th>\n",
              "      <td>0.720354</td>\n",
              "    </tr>\n",
              "    <tr>\n",
              "      <th>49.599198</th>\n",
              "      <td>0.786124</td>\n",
              "    </tr>\n",
              "    <tr>\n",
              "      <th>49.699399</th>\n",
              "      <td>0.844008</td>\n",
              "    </tr>\n",
              "    <tr>\n",
              "      <th>49.799599</th>\n",
              "      <td>0.893425</td>\n",
              "    </tr>\n",
              "    <tr>\n",
              "      <th>49.899800</th>\n",
              "      <td>0.933880</td>\n",
              "    </tr>\n",
              "    <tr>\n",
              "      <th>50.000000</th>\n",
              "      <td>0.964966</td>\n",
              "    </tr>\n",
              "  </tbody>\n",
              "</table>\n",
              "</div>"
            ],
            "text/plain": [
              "             cosine\n",
              "45.090180  0.446557\n",
              "45.190381  0.354812\n",
              "45.290581  0.259508\n",
              "45.390782  0.161600\n",
              "45.490982  0.062072\n",
              "45.591182 -0.038080\n",
              "45.691383 -0.137849\n",
              "45.791583 -0.236235\n",
              "45.891784 -0.332252\n",
              "45.991984 -0.424935\n",
              "46.092184 -0.513356\n",
              "46.192385 -0.596627\n",
              "46.292585 -0.673912\n",
              "46.392786 -0.744438\n",
              "46.492986 -0.807495\n",
              "46.593186 -0.862451\n",
              "46.693387 -0.908756\n",
              "46.793587 -0.945944\n",
              "46.893788 -0.973643\n",
              "46.993988 -0.991575\n",
              "47.094188 -0.999559\n",
              "47.194389 -0.997516\n",
              "47.294589 -0.985466\n",
              "47.394790 -0.963531\n",
              "47.494990 -0.931929\n",
              "47.595190 -0.890979\n",
              "47.695391 -0.841090\n",
              "47.795591 -0.782764\n",
              "47.895792 -0.716585\n",
              "47.995992 -0.643218\n",
              "48.096192 -0.563399\n",
              "48.196393 -0.477927\n",
              "48.296593 -0.387661\n",
              "48.396794 -0.293506\n",
              "48.496994 -0.196407\n",
              "48.597194 -0.097337\n",
              "48.697395  0.002709\n",
              "48.797595  0.102728\n",
              "48.897796  0.201716\n",
              "48.997996  0.298681\n",
              "49.098196  0.392649\n",
              "49.198397  0.482679\n",
              "49.298597  0.567866\n",
              "49.398798  0.647357\n",
              "49.498998  0.720354\n",
              "49.599198  0.786124\n",
              "49.699399  0.844008\n",
              "49.799599  0.893425\n",
              "49.899800  0.933880\n",
              "50.000000  0.964966"
            ]
          },
          "metadata": {
            "tags": []
          },
          "execution_count": 81
        }
      ]
    },
    {
      "cell_type": "code",
      "metadata": {
        "id": "ms8N_CDQqDNx",
        "colab_type": "code",
        "colab": {
          "base_uri": "https://localhost:8080/",
          "height": 119
        },
        "outputId": "d8acfde7-5c7f-4e54-fce9-959d171c965c"
      },
      "source": [
        "test['prediction'] = true_predictions"
      ],
      "execution_count": 82,
      "outputs": [
        {
          "output_type": "stream",
          "text": [
            "/usr/local/lib/python3.6/dist-packages/ipykernel_launcher.py:1: SettingWithCopyWarning: \n",
            "A value is trying to be set on a copy of a slice from a DataFrame.\n",
            "Try using .loc[row_indexer,col_indexer] = value instead\n",
            "\n",
            "See the caveats in the documentation: http://pandas.pydata.org/pandas-docs/stable/user_guide/indexing.html#returning-a-view-versus-a-copy\n",
            "  \"\"\"Entry point for launching an IPython kernel.\n"
          ],
          "name": "stderr"
        }
      ]
    },
    {
      "cell_type": "code",
      "metadata": {
        "id": "U5J2wckwqLHq",
        "colab_type": "code",
        "colab": {
          "base_uri": "https://localhost:8080/",
          "height": 1000
        },
        "outputId": "da5af6c8-79e5-49c2-9896-7dcd3572d731"
      },
      "source": [
        "test"
      ],
      "execution_count": 83,
      "outputs": [
        {
          "output_type": "execute_result",
          "data": {
            "text/html": [
              "<div>\n",
              "<style scoped>\n",
              "    .dataframe tbody tr th:only-of-type {\n",
              "        vertical-align: middle;\n",
              "    }\n",
              "\n",
              "    .dataframe tbody tr th {\n",
              "        vertical-align: top;\n",
              "    }\n",
              "\n",
              "    .dataframe thead th {\n",
              "        text-align: right;\n",
              "    }\n",
              "</style>\n",
              "<table border=\"1\" class=\"dataframe\">\n",
              "  <thead>\n",
              "    <tr style=\"text-align: right;\">\n",
              "      <th></th>\n",
              "      <th>cosine</th>\n",
              "      <th>prediction</th>\n",
              "    </tr>\n",
              "  </thead>\n",
              "  <tbody>\n",
              "    <tr>\n",
              "      <th>45.090180</th>\n",
              "      <td>0.446557</td>\n",
              "      <td>0.449103</td>\n",
              "    </tr>\n",
              "    <tr>\n",
              "      <th>45.190381</th>\n",
              "      <td>0.354812</td>\n",
              "      <td>0.356929</td>\n",
              "    </tr>\n",
              "    <tr>\n",
              "      <th>45.290581</th>\n",
              "      <td>0.259508</td>\n",
              "      <td>0.262351</td>\n",
              "    </tr>\n",
              "    <tr>\n",
              "      <th>45.390782</th>\n",
              "      <td>0.161600</td>\n",
              "      <td>0.164539</td>\n",
              "    </tr>\n",
              "    <tr>\n",
              "      <th>45.490982</th>\n",
              "      <td>0.062072</td>\n",
              "      <td>0.063018</td>\n",
              "    </tr>\n",
              "    <tr>\n",
              "      <th>45.591182</th>\n",
              "      <td>-0.038080</td>\n",
              "      <td>-0.037529</td>\n",
              "    </tr>\n",
              "    <tr>\n",
              "      <th>45.691383</th>\n",
              "      <td>-0.137849</td>\n",
              "      <td>-0.139614</td>\n",
              "    </tr>\n",
              "    <tr>\n",
              "      <th>45.791583</th>\n",
              "      <td>-0.236235</td>\n",
              "      <td>-0.240678</td>\n",
              "    </tr>\n",
              "    <tr>\n",
              "      <th>45.891784</th>\n",
              "      <td>-0.332252</td>\n",
              "      <td>-0.338860</td>\n",
              "    </tr>\n",
              "    <tr>\n",
              "      <th>45.991984</th>\n",
              "      <td>-0.424935</td>\n",
              "      <td>-0.435276</td>\n",
              "    </tr>\n",
              "    <tr>\n",
              "      <th>46.092184</th>\n",
              "      <td>-0.513356</td>\n",
              "      <td>-0.526239</td>\n",
              "    </tr>\n",
              "    <tr>\n",
              "      <th>46.192385</th>\n",
              "      <td>-0.596627</td>\n",
              "      <td>-0.612266</td>\n",
              "    </tr>\n",
              "    <tr>\n",
              "      <th>46.292585</th>\n",
              "      <td>-0.673912</td>\n",
              "      <td>-0.692360</td>\n",
              "    </tr>\n",
              "    <tr>\n",
              "      <th>46.392786</th>\n",
              "      <td>-0.744438</td>\n",
              "      <td>-0.763325</td>\n",
              "    </tr>\n",
              "    <tr>\n",
              "      <th>46.492986</th>\n",
              "      <td>-0.807495</td>\n",
              "      <td>-0.827986</td>\n",
              "    </tr>\n",
              "    <tr>\n",
              "      <th>46.593186</th>\n",
              "      <td>-0.862451</td>\n",
              "      <td>-0.882212</td>\n",
              "    </tr>\n",
              "    <tr>\n",
              "      <th>46.693387</th>\n",
              "      <td>-0.908756</td>\n",
              "      <td>-0.926264</td>\n",
              "    </tr>\n",
              "    <tr>\n",
              "      <th>46.793587</th>\n",
              "      <td>-0.945944</td>\n",
              "      <td>-0.962617</td>\n",
              "    </tr>\n",
              "    <tr>\n",
              "      <th>46.893788</th>\n",
              "      <td>-0.973643</td>\n",
              "      <td>-0.985740</td>\n",
              "    </tr>\n",
              "    <tr>\n",
              "      <th>46.993988</th>\n",
              "      <td>-0.991575</td>\n",
              "      <td>-1.000294</td>\n",
              "    </tr>\n",
              "    <tr>\n",
              "      <th>47.094188</th>\n",
              "      <td>-0.999559</td>\n",
              "      <td>-1.005080</td>\n",
              "    </tr>\n",
              "    <tr>\n",
              "      <th>47.194389</th>\n",
              "      <td>-0.997516</td>\n",
              "      <td>-0.996859</td>\n",
              "    </tr>\n",
              "    <tr>\n",
              "      <th>47.294589</th>\n",
              "      <td>-0.985466</td>\n",
              "      <td>-0.982287</td>\n",
              "    </tr>\n",
              "    <tr>\n",
              "      <th>47.394790</th>\n",
              "      <td>-0.963531</td>\n",
              "      <td>-0.955699</td>\n",
              "    </tr>\n",
              "    <tr>\n",
              "      <th>47.494990</th>\n",
              "      <td>-0.931929</td>\n",
              "      <td>-0.919887</td>\n",
              "    </tr>\n",
              "    <tr>\n",
              "      <th>47.595190</th>\n",
              "      <td>-0.890979</td>\n",
              "      <td>-0.877897</td>\n",
              "    </tr>\n",
              "    <tr>\n",
              "      <th>47.695391</th>\n",
              "      <td>-0.841090</td>\n",
              "      <td>-0.823519</td>\n",
              "    </tr>\n",
              "    <tr>\n",
              "      <th>47.795591</th>\n",
              "      <td>-0.782764</td>\n",
              "      <td>-0.764691</td>\n",
              "    </tr>\n",
              "    <tr>\n",
              "      <th>47.895792</th>\n",
              "      <td>-0.716585</td>\n",
              "      <td>-0.697324</td>\n",
              "    </tr>\n",
              "    <tr>\n",
              "      <th>47.995992</th>\n",
              "      <td>-0.643218</td>\n",
              "      <td>-0.620914</td>\n",
              "    </tr>\n",
              "    <tr>\n",
              "      <th>48.096192</th>\n",
              "      <td>-0.563399</td>\n",
              "      <td>-0.542782</td>\n",
              "    </tr>\n",
              "    <tr>\n",
              "      <th>48.196393</th>\n",
              "      <td>-0.477927</td>\n",
              "      <td>-0.454059</td>\n",
              "    </tr>\n",
              "    <tr>\n",
              "      <th>48.296593</th>\n",
              "      <td>-0.387661</td>\n",
              "      <td>-0.362677</td>\n",
              "    </tr>\n",
              "    <tr>\n",
              "      <th>48.396794</th>\n",
              "      <td>-0.293506</td>\n",
              "      <td>-0.268913</td>\n",
              "    </tr>\n",
              "    <tr>\n",
              "      <th>48.496994</th>\n",
              "      <td>-0.196407</td>\n",
              "      <td>-0.166209</td>\n",
              "    </tr>\n",
              "    <tr>\n",
              "      <th>48.597194</th>\n",
              "      <td>-0.097337</td>\n",
              "      <td>-0.067651</td>\n",
              "    </tr>\n",
              "    <tr>\n",
              "      <th>48.697395</th>\n",
              "      <td>0.002709</td>\n",
              "      <td>0.036092</td>\n",
              "    </tr>\n",
              "    <tr>\n",
              "      <th>48.797595</th>\n",
              "      <td>0.102728</td>\n",
              "      <td>0.141476</td>\n",
              "    </tr>\n",
              "    <tr>\n",
              "      <th>48.897796</th>\n",
              "      <td>0.201716</td>\n",
              "      <td>0.239572</td>\n",
              "    </tr>\n",
              "    <tr>\n",
              "      <th>48.997996</th>\n",
              "      <td>0.298681</td>\n",
              "      <td>0.343908</td>\n",
              "    </tr>\n",
              "    <tr>\n",
              "      <th>49.098196</th>\n",
              "      <td>0.392649</td>\n",
              "      <td>0.439315</td>\n",
              "    </tr>\n",
              "    <tr>\n",
              "      <th>49.198397</th>\n",
              "      <td>0.482679</td>\n",
              "      <td>0.530119</td>\n",
              "    </tr>\n",
              "    <tr>\n",
              "      <th>49.298597</th>\n",
              "      <td>0.567866</td>\n",
              "      <td>0.622251</td>\n",
              "    </tr>\n",
              "    <tr>\n",
              "      <th>49.398798</th>\n",
              "      <td>0.647357</td>\n",
              "      <td>0.697965</td>\n",
              "    </tr>\n",
              "    <tr>\n",
              "      <th>49.498998</th>\n",
              "      <td>0.720354</td>\n",
              "      <td>0.774446</td>\n",
              "    </tr>\n",
              "    <tr>\n",
              "      <th>49.599198</th>\n",
              "      <td>0.786124</td>\n",
              "      <td>0.841265</td>\n",
              "    </tr>\n",
              "    <tr>\n",
              "      <th>49.699399</th>\n",
              "      <td>0.844008</td>\n",
              "      <td>0.892718</td>\n",
              "    </tr>\n",
              "    <tr>\n",
              "      <th>49.799599</th>\n",
              "      <td>0.893425</td>\n",
              "      <td>0.946234</td>\n",
              "    </tr>\n",
              "    <tr>\n",
              "      <th>49.899800</th>\n",
              "      <td>0.933880</td>\n",
              "      <td>0.979213</td>\n",
              "    </tr>\n",
              "    <tr>\n",
              "      <th>50.000000</th>\n",
              "      <td>0.964966</td>\n",
              "      <td>1.005631</td>\n",
              "    </tr>\n",
              "  </tbody>\n",
              "</table>\n",
              "</div>"
            ],
            "text/plain": [
              "             cosine  prediction\n",
              "45.090180  0.446557    0.449103\n",
              "45.190381  0.354812    0.356929\n",
              "45.290581  0.259508    0.262351\n",
              "45.390782  0.161600    0.164539\n",
              "45.490982  0.062072    0.063018\n",
              "45.591182 -0.038080   -0.037529\n",
              "45.691383 -0.137849   -0.139614\n",
              "45.791583 -0.236235   -0.240678\n",
              "45.891784 -0.332252   -0.338860\n",
              "45.991984 -0.424935   -0.435276\n",
              "46.092184 -0.513356   -0.526239\n",
              "46.192385 -0.596627   -0.612266\n",
              "46.292585 -0.673912   -0.692360\n",
              "46.392786 -0.744438   -0.763325\n",
              "46.492986 -0.807495   -0.827986\n",
              "46.593186 -0.862451   -0.882212\n",
              "46.693387 -0.908756   -0.926264\n",
              "46.793587 -0.945944   -0.962617\n",
              "46.893788 -0.973643   -0.985740\n",
              "46.993988 -0.991575   -1.000294\n",
              "47.094188 -0.999559   -1.005080\n",
              "47.194389 -0.997516   -0.996859\n",
              "47.294589 -0.985466   -0.982287\n",
              "47.394790 -0.963531   -0.955699\n",
              "47.494990 -0.931929   -0.919887\n",
              "47.595190 -0.890979   -0.877897\n",
              "47.695391 -0.841090   -0.823519\n",
              "47.795591 -0.782764   -0.764691\n",
              "47.895792 -0.716585   -0.697324\n",
              "47.995992 -0.643218   -0.620914\n",
              "48.096192 -0.563399   -0.542782\n",
              "48.196393 -0.477927   -0.454059\n",
              "48.296593 -0.387661   -0.362677\n",
              "48.396794 -0.293506   -0.268913\n",
              "48.496994 -0.196407   -0.166209\n",
              "48.597194 -0.097337   -0.067651\n",
              "48.697395  0.002709    0.036092\n",
              "48.797595  0.102728    0.141476\n",
              "48.897796  0.201716    0.239572\n",
              "48.997996  0.298681    0.343908\n",
              "49.098196  0.392649    0.439315\n",
              "49.198397  0.482679    0.530119\n",
              "49.298597  0.567866    0.622251\n",
              "49.398798  0.647357    0.697965\n",
              "49.498998  0.720354    0.774446\n",
              "49.599198  0.786124    0.841265\n",
              "49.699399  0.844008    0.892718\n",
              "49.799599  0.893425    0.946234\n",
              "49.899800  0.933880    0.979213\n",
              "50.000000  0.964966    1.005631"
            ]
          },
          "metadata": {
            "tags": []
          },
          "execution_count": 83
        }
      ]
    },
    {
      "cell_type": "code",
      "metadata": {
        "id": "HIlJAjMPqOI0",
        "colab_type": "code",
        "colab": {
          "base_uri": "https://localhost:8080/",
          "height": 500
        },
        "outputId": "f44efc2f-38a7-4451-fd0c-1a1415ff1fc1"
      },
      "source": [
        "test.plot(figsize=(12,8))"
      ],
      "execution_count": 84,
      "outputs": [
        {
          "output_type": "execute_result",
          "data": {
            "text/plain": [
              "<matplotlib.axes._subplots.AxesSubplot at 0x7f0bdab22390>"
            ]
          },
          "metadata": {
            "tags": []
          },
          "execution_count": 84
        },
        {
          "output_type": "display_data",
          "data": {
            "image/png": "[encoded data removed]",
            "text/plain": [
              "<Figure size 864x576 with 1 Axes>"
            ]
          },
          "metadata": {
            "tags": []
          }
        }
      ]
    },
    {
      "cell_type": "code",
      "metadata": {
        "id": "L_kf_VvjqYyn",
        "colab_type": "code",
        "colab": {}
      },
      "source": [
        ""
      ],
      "execution_count": 0,
      "outputs": []
    }
  ]
}